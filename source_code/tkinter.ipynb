{
 "cells": [
  {
   "cell_type": "markdown",
   "metadata": {},
   "source": [
    "# 期中大作业\n",
    "\n",
    "2021.4.25\n",
    "\n",
    "**1900094813_汪蔚淓** \n",
    "  \n",
    "  \n",
    "⭐ **preprocessing.ipynb**: 预处理poem和wordlist、计算TF-IDF、PMI、近似词\n",
    "\n",
    "\n",
    "⭐ **publish_subscribe.ipynb**: 提供了Publisher类和Reader类 \n",
    "\n",
    "\n",
    "⭐ **GUI.ipynb**:界面设计\n",
    "\n",
    "\n",
    "⭐ **tkinter_hw.ipynb**: 需要运行的文件，启动发布者、读者界面\n",
    "\n",
    "\n"
   ]
  },
  {
   "cell_type": "code",
   "execution_count": 1,
   "metadata": {},
   "outputs": [],
   "source": [
    "%store -r poem_word_list_id\n",
    "%store -r new_df\n",
    "%store -r author_list\n",
    "%store -r syn\n",
    "%store -r author_key"
   ]
  },
  {
   "cell_type": "code",
   "execution_count": 2,
   "metadata": {},
   "outputs": [],
   "source": [
    "import nbimporter\n",
    "import publish_subscribe\n",
    "from publish_subscribe import Publisher, Reader\n",
    "\n",
    "from GUI import MainPanel\n",
    "\n",
    "from threading import Thread\n",
    "import time"
   ]
  },
  {
   "cell_type": "code",
   "execution_count": 3,
   "metadata": {},
   "outputs": [],
   "source": [
    "# poem_dist = all_poem \n",
    "publisher = Publisher(\"Publisher\",author_list,poem_word_list_id,syn)\n",
    "publisher.publish_poem(new_df)\n",
    "# publisher_t = Thread(target=publish_poems, args=(publisher, ))\n",
    "# publisher_t.start()     # 新建线程，启动发布者"
   ]
  },
  {
   "cell_type": "code",
   "execution_count": 4,
   "metadata": {},
   "outputs": [],
   "source": [
    "reader = Reader(\"Alice\")\n",
    "gui = MainPanel(reader, publisher,author_list,poem_word_list_id,syn,author_key)  \n",
    "gui.start()        # 启动读者面板"
   ]
  },
  {
   "cell_type": "code",
   "execution_count": null,
   "metadata": {},
   "outputs": [],
   "source": []
  }
 ],
 "metadata": {
  "kernelspec": {
   "display_name": "Python 3",
   "language": "python",
   "name": "python3"
  },
  "language_info": {
   "codemirror_mode": {
    "name": "ipython",
    "version": 3
   },
   "file_extension": ".py",
   "mimetype": "text/x-python",
   "name": "python",
   "nbconvert_exporter": "python",
   "pygments_lexer": "ipython3",
   "version": "3.7.6"
  },
  "latex_envs": {
   "LaTeX_envs_menu_present": true,
   "autoclose": false,
   "autocomplete": true,
   "bibliofile": "biblio.bib",
   "cite_by": "apalike",
   "current_citInitial": 1,
   "eqLabelWithNumbers": true,
   "eqNumInitial": 1,
   "hotkeys": {
    "equation": "Ctrl-E",
    "itemize": "Ctrl-I"
   },
   "labels_anchors": false,
   "latex_user_defs": false,
   "report_style_numbering": false,
   "user_envs_cfg": false
  }
 },
 "nbformat": 4,
 "nbformat_minor": 2
}
